{
    "cells": [
        {
            "cell_type": "code",
            "execution_count": 2,
            "source": [
                "# Import libraries\n",
                "from functools import reduce\n",
                "import numpy as np\n",
                "import pandas as pd\n",
                "import matplotlib.pyplot as plt\n",
                "from math import sqrt, exp\n",
                "from pandas_datareader.data import DataReader\n",
                "import requests_cache\n",
                "%matplotlib inline"
            ],
            "outputs": [],
            "metadata": {}
        },
        {
            "cell_type": "code",
            "execution_count": 17,
            "source": [
                "# Download data from pandas datareader -> AAPL.O, IBM.N, GOOG.O, BP.N, XOM.N, COST.O, GS.N\n",
                "# Start: 01/01/2016\n",
                "# End: 31/12/2016\n",
                "# Create a dictionary: Key -> Ticker, Value -> Historical data from Start_Date to End_Date\n",
                "\n",
                "session = requests_cache.CachedSession(cache_name='cache',backend='sqlite')\n",
                "session.headers = {'User-Agent': 'Mozilla/5.0 (X11; Ubuntu; Linux x86_64; rv:89.0) Gecko/20100101 Firefox/89.0',\n",
                "                   'Accept': 'application/json;charset=utf-8'}\n",
                "\n",
                "def get_data(tickers, start_date=\"2016-01-01\", end_date=\"2016-12-31\"):\n",
                "    stocks = dict()\n",
                "    for ticker in tickers:\n",
                "        s = DataReader(ticker, 'yahoo', start_date, end_date, session=session)\n",
                "        s.insert(0, \"Ticker\", ticker)\n",
                "        s['Prev Close'] = s['Adj Close'].shift(1)\n",
                "        s['log_return'] = np.log(s['Adj Close']/s['Prev Close'])\n",
                "        s['perc_return'] = (s['Adj Close']/s['Prev Close']) - 1\n",
                "        stocks[ticker] = s\n",
                "    return stocks\n",
                "\n",
                "# Initialize the dataset with historical data\n",
                "stocks = [\"AAPL\", \"IBM\", \"GOOG\", \"BP\", \"XOM\", \"COST\", \"GS\"]\n",
                "portfolio = get_data(stocks)"
            ],
            "outputs": [],
            "metadata": {}
        },
        {
            "cell_type": "markdown",
            "source": [
                "## Question 4a. Using historical daily returns, calculate VaR95% and CVaR95% of portfolio as of 2016/12/31"
            ],
            "metadata": {}
        },
        {
            "cell_type": "code",
            "execution_count": 28,
            "source": [
                "# Set weights of stocks in portfolio\n",
                "weights = [0.15, 0.2, 0.2, 0.15,0.1,0.15,0.05]\n",
                "\n",
                "for stock in stocks:\n",
                "    portfolio[stock]['Previous Adj Close'] = portfolio[stock]['Adj Close'].shift(1)\n",
                "portfolio['AAPL'].head(3)"
            ],
            "outputs": [
                {
                    "output_type": "execute_result",
                    "data": {
                        "text/plain": [
                            "           Ticker       High        Low       Open      Close       Volume  \\\n",
                            "Date                                                                         \n",
                            "2015-12-31   AAPL  26.757500  26.205000  26.752501  26.315001  163649200.0   \n",
                            "2016-01-04   AAPL  26.342501  25.500000  25.652500  26.337500  270597600.0   \n",
                            "2016-01-05   AAPL  26.462500  25.602501  26.437500  25.677500  223164000.0   \n",
                            "\n",
                            "            Adj Close  Prev Close  log_return  perc_return  Previous Adj Close  \n",
                            "Date                                                                            \n",
                            "2015-12-31  24.266081         NaN         NaN          NaN                 NaN  \n",
                            "2016-01-04  24.286833   24.266081    0.000855     0.000855           24.266081  \n",
                            "2016-01-05  23.678219   24.286833   -0.025379    -0.025059           24.286833  "
                        ],
                        "text/html": [
                            "<div>\n",
                            "<style scoped>\n",
                            "    .dataframe tbody tr th:only-of-type {\n",
                            "        vertical-align: middle;\n",
                            "    }\n",
                            "\n",
                            "    .dataframe tbody tr th {\n",
                            "        vertical-align: top;\n",
                            "    }\n",
                            "\n",
                            "    .dataframe thead th {\n",
                            "        text-align: right;\n",
                            "    }\n",
                            "</style>\n",
                            "<table border=\"1\" class=\"dataframe\">\n",
                            "  <thead>\n",
                            "    <tr style=\"text-align: right;\">\n",
                            "      <th></th>\n",
                            "      <th>Ticker</th>\n",
                            "      <th>High</th>\n",
                            "      <th>Low</th>\n",
                            "      <th>Open</th>\n",
                            "      <th>Close</th>\n",
                            "      <th>Volume</th>\n",
                            "      <th>Adj Close</th>\n",
                            "      <th>Prev Close</th>\n",
                            "      <th>log_return</th>\n",
                            "      <th>perc_return</th>\n",
                            "      <th>Previous Adj Close</th>\n",
                            "    </tr>\n",
                            "    <tr>\n",
                            "      <th>Date</th>\n",
                            "      <th></th>\n",
                            "      <th></th>\n",
                            "      <th></th>\n",
                            "      <th></th>\n",
                            "      <th></th>\n",
                            "      <th></th>\n",
                            "      <th></th>\n",
                            "      <th></th>\n",
                            "      <th></th>\n",
                            "      <th></th>\n",
                            "      <th></th>\n",
                            "    </tr>\n",
                            "  </thead>\n",
                            "  <tbody>\n",
                            "    <tr>\n",
                            "      <th>2015-12-31</th>\n",
                            "      <td>AAPL</td>\n",
                            "      <td>26.757500</td>\n",
                            "      <td>26.205000</td>\n",
                            "      <td>26.752501</td>\n",
                            "      <td>26.315001</td>\n",
                            "      <td>163649200.0</td>\n",
                            "      <td>24.266081</td>\n",
                            "      <td>NaN</td>\n",
                            "      <td>NaN</td>\n",
                            "      <td>NaN</td>\n",
                            "      <td>NaN</td>\n",
                            "    </tr>\n",
                            "    <tr>\n",
                            "      <th>2016-01-04</th>\n",
                            "      <td>AAPL</td>\n",
                            "      <td>26.342501</td>\n",
                            "      <td>25.500000</td>\n",
                            "      <td>25.652500</td>\n",
                            "      <td>26.337500</td>\n",
                            "      <td>270597600.0</td>\n",
                            "      <td>24.286833</td>\n",
                            "      <td>24.266081</td>\n",
                            "      <td>0.000855</td>\n",
                            "      <td>0.000855</td>\n",
                            "      <td>24.266081</td>\n",
                            "    </tr>\n",
                            "    <tr>\n",
                            "      <th>2016-01-05</th>\n",
                            "      <td>AAPL</td>\n",
                            "      <td>26.462500</td>\n",
                            "      <td>25.602501</td>\n",
                            "      <td>26.437500</td>\n",
                            "      <td>25.677500</td>\n",
                            "      <td>223164000.0</td>\n",
                            "      <td>23.678219</td>\n",
                            "      <td>24.286833</td>\n",
                            "      <td>-0.025379</td>\n",
                            "      <td>-0.025059</td>\n",
                            "      <td>24.286833</td>\n",
                            "    </tr>\n",
                            "  </tbody>\n",
                            "</table>\n",
                            "</div>"
                        ]
                    },
                    "metadata": {},
                    "execution_count": 28
                }
            ],
            "metadata": {}
        },
        {
            "cell_type": "code",
            "execution_count": 30,
            "source": [
                "portfolio_df = pd.DataFrame()\n",
                "portfolio_df.insert(0, \"Date\", portfolio['AAPL'].index)\n",
                "portfolio_df = portfolio_df.set_index(\"Date\")"
            ],
            "outputs": [],
            "metadata": {}
        },
        {
            "cell_type": "code",
            "execution_count": null,
            "source": [],
            "outputs": [],
            "metadata": {}
        },
        {
            "cell_type": "code",
            "execution_count": null,
            "source": [],
            "outputs": [],
            "metadata": {}
        }
    ],
    "metadata": {
        "orig_nbformat": 4,
        "language_info": {
            "name": "python",
            "version": "3.9.6",
            "mimetype": "text/x-python",
            "codemirror_mode": {
                "name": "ipython",
                "version": 3
            },
            "pygments_lexer": "ipython3",
            "nbconvert_exporter": "python",
            "file_extension": ".py"
        },
        "kernelspec": {
            "name": "python3",
            "display_name": "Python 3.9.6 64-bit"
        },
        "interpreter": {
            "hash": "aee8b7b246df8f9039afb4144a1f6fd8d2ca17a180786b69acc140d282b71a49"
        }
    },
    "nbformat": 4,
    "nbformat_minor": 2
}