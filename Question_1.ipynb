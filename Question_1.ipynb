{
    "cells": [
        {
            "cell_type": "markdown",
            "source": [
                "Given “Employee” table below:\n",
                "\n",
                "| id  | Name  | Salary | Manager_id |\n",
                "|-----|-------|--------|------------|\n",
                "| 1   | John  | 300    | 3          |\n",
                "| 2   | Mike  | 200    | 3          |\n",
                "| 3   | Sally | 550    | 4          |\n",
                "| 4   | Jane  | 500    | 7          |\n",
                "| 5   | Joe   | 600    | 7          |\n",
                "| 6   | Dan   | 600    | 3          |\n",
                "| 7   | Phil  | 550    | NULL       |\n",
                "| ... | ...   | ...    | ...        |\n",
                "\n",
                "### a. Give the name of employees, whose salaries are greater than their immediate manager’s\n",
                "### b. What is the average salary of employees who do not manage anyone? In the sample above, that would be John, Mike, Joe and Dan, since they do not have anyone reporting to them"
            ],
            "metadata": {}
        },
        {
            "cell_type": "code",
            "execution_count": 1,
            "source": [
                "import pandas as pd\n"
            ],
            "outputs": [],
            "metadata": {}
        },
        {
            "cell_type": "code",
            "execution_count": 2,
            "source": [
                "# create dictionary of employee data and initialize dataframe, df\n",
                "# Set Null value as 0\n",
                "\n",
                "data = {\"id\": [1,2,3,4,5,6,7], \"Name\": [\"John\", \"Mike\", \"Sally\", \"Jane\", \"Joe\", \"Dan\", \"Phil\"], \"Salary\": [300, 200, 550, 500, 600, 600, 550], \"Manager_id\": [3, 3, 4, 7, 7, 3, 0]}\n",
                "df = pd.DataFrame(data=data).set_index(\"id\", drop= True)\n",
                "df.head()"
            ],
            "outputs": [
                {
                    "output_type": "execute_result",
                    "data": {
                        "text/plain": [
                            "     Name  Salary  Manager_id\n",
                            "id                           \n",
                            "1    John     300           3\n",
                            "2    Mike     200           3\n",
                            "3   Sally     550           4\n",
                            "4    Jane     500           7\n",
                            "5     Joe     600           7"
                        ],
                        "text/html": [
                            "<div>\n",
                            "<style scoped>\n",
                            "    .dataframe tbody tr th:only-of-type {\n",
                            "        vertical-align: middle;\n",
                            "    }\n",
                            "\n",
                            "    .dataframe tbody tr th {\n",
                            "        vertical-align: top;\n",
                            "    }\n",
                            "\n",
                            "    .dataframe thead th {\n",
                            "        text-align: right;\n",
                            "    }\n",
                            "</style>\n",
                            "<table border=\"1\" class=\"dataframe\">\n",
                            "  <thead>\n",
                            "    <tr style=\"text-align: right;\">\n",
                            "      <th></th>\n",
                            "      <th>Name</th>\n",
                            "      <th>Salary</th>\n",
                            "      <th>Manager_id</th>\n",
                            "    </tr>\n",
                            "    <tr>\n",
                            "      <th>id</th>\n",
                            "      <th></th>\n",
                            "      <th></th>\n",
                            "      <th></th>\n",
                            "    </tr>\n",
                            "  </thead>\n",
                            "  <tbody>\n",
                            "    <tr>\n",
                            "      <th>1</th>\n",
                            "      <td>John</td>\n",
                            "      <td>300</td>\n",
                            "      <td>3</td>\n",
                            "    </tr>\n",
                            "    <tr>\n",
                            "      <th>2</th>\n",
                            "      <td>Mike</td>\n",
                            "      <td>200</td>\n",
                            "      <td>3</td>\n",
                            "    </tr>\n",
                            "    <tr>\n",
                            "      <th>3</th>\n",
                            "      <td>Sally</td>\n",
                            "      <td>550</td>\n",
                            "      <td>4</td>\n",
                            "    </tr>\n",
                            "    <tr>\n",
                            "      <th>4</th>\n",
                            "      <td>Jane</td>\n",
                            "      <td>500</td>\n",
                            "      <td>7</td>\n",
                            "    </tr>\n",
                            "    <tr>\n",
                            "      <th>5</th>\n",
                            "      <td>Joe</td>\n",
                            "      <td>600</td>\n",
                            "      <td>7</td>\n",
                            "    </tr>\n",
                            "  </tbody>\n",
                            "</table>\n",
                            "</div>"
                        ]
                    },
                    "metadata": {},
                    "execution_count": 2
                }
            ],
            "metadata": {}
        },
        {
            "cell_type": "code",
            "execution_count": 3,
            "source": [
                "# Create a helper function to compare salaries\n",
                "# If Manager_id == 0 (Does not have manager): return False\n",
                "# Else: compare salary with manager's salary using df.loc[manager_id, \"Salary\"]\n",
                "def compareSalary(x):\n",
                "    if x.Manager_id == 0:\n",
                "        return False\n",
                "    else:\n",
                "        return x.Salary > df.loc[x.Manager_id, \"Salary\"]"
            ],
            "outputs": [],
            "metadata": {}
        },
        {
            "cell_type": "code",
            "execution_count": 4,
            "source": [
                "# Apply the helper function into the dataframe, set axis = 1 to apply function on rows\n",
                "# get the value and create a list to store the answer under \"result\"\n",
                "# print answer\n",
                "result = df[df.apply(compareSalary, axis=1)]['Name'].values.tolist()\n",
                "print(f\"The following employees have salaries higher than their immediate managers': {result}\")"
            ],
            "outputs": [
                {
                    "output_type": "stream",
                    "name": "stdout",
                    "text": [
                        "The following employees have salaries higher than their immediate managers': ['Sally', 'Joe', 'Dan']\n"
                    ]
                }
            ],
            "metadata": {}
        },
        {
            "cell_type": "markdown",
            "source": [
                "## Q1a: The following employees have salaries higher than their immediate managers': ['Sally', 'Joe', 'Dan']\n",
                "---"
            ],
            "metadata": {}
        },
        {
            "cell_type": "code",
            "execution_count": 5,
            "source": [
                "# Create column \"is_manager\" and set all to False\n",
                "df['is_manager'] = False\n",
                "\n",
                "# Iterate through each row and find the employee's corresponding manager and set \"is_manager\" to True\n",
                "for index, row in df.iterrows():\n",
                "    df.loc[row.Manager_id, \"is_manager\"] = True\n",
                "\n",
                "# Find average salary of non-managerial employees \n",
                "average_salary = df[df.apply(lambda x: x.is_manager == False, axis=1)].Salary.mean()\n",
                "print(f\"The average salary of employees who do not manage anyone: ${average_salary}\")"
            ],
            "outputs": [
                {
                    "output_type": "stream",
                    "name": "stdout",
                    "text": [
                        "The average salary of employees who do not manage anyone: $425.0\n"
                    ]
                }
            ],
            "metadata": {}
        },
        {
            "cell_type": "markdown",
            "source": [
                "## Q1b: The average salary of employees who do not manage anyone: $425.0\n",
                "---"
            ],
            "metadata": {}
        },
        {
            "cell_type": "markdown",
            "source": [],
            "metadata": {}
        }
    ],
    "metadata": {
        "orig_nbformat": 4,
        "language_info": {
            "name": "python",
            "version": "3.9.6",
            "mimetype": "text/x-python",
            "codemirror_mode": {
                "name": "ipython",
                "version": 3
            },
            "pygments_lexer": "ipython3",
            "nbconvert_exporter": "python",
            "file_extension": ".py"
        },
        "kernelspec": {
            "name": "python3",
            "display_name": "Python 3.9.6 64-bit"
        },
        "interpreter": {
            "hash": "aee8b7b246df8f9039afb4144a1f6fd8d2ca17a180786b69acc140d282b71a49"
        }
    },
    "nbformat": 4,
    "nbformat_minor": 2
}