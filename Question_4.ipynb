{
    "cells": [
        {
            "cell_type": "code",
            "execution_count": 2,
            "source": [
                "# Import libraries\n",
                "from functools import reduce\n",
                "import numpy as np\n",
                "import pandas as pd\n",
                "import matplotlib.pyplot as plt\n",
                "from math import sqrt, exp\n",
                "from pandas_datareader.data import DataReader\n",
                "import requests_cache\n",
                "%matplotlib inline"
            ],
            "outputs": [],
            "metadata": {}
        },
        {
            "cell_type": "code",
            "execution_count": 62,
            "source": [
                "# Download data from pandas datareader -> AAPL.O, IBM.N, GOOG.O, BP.N, XOM.N, COST.O, GS.N\n",
                "# Start: 01/01/2016\n",
                "# End: 31/12/2016\n",
                "# Create a dictionary: Key -> Ticker, Value -> Historical data from Start_Date to End_Date\n",
                "\n",
                "session = requests_cache.CachedSession(cache_name='cache',backend='sqlite')\n",
                "session.headers = {'User-Agent': 'Mozilla/5.0 (X11; Ubuntu; Linux x86_64; rv:89.0) Gecko/20100101 Firefox/89.0',\n",
                "                   'Accept': 'application/json;charset=utf-8'}\n",
                "\n",
                "def get_data(tickers, start_date=\"2016-01-01\", end_date=\"2016-12-31\"):\n",
                "    stocks = dict()\n",
                "    for ticker in tickers:\n",
                "        s = DataReader(ticker, 'yahoo', start_date, end_date, session=session)\n",
                "        s.insert(0, \"Ticker\", ticker)\n",
                "        s['Prev Close'] = s['Adj Close'].shift(1)\n",
                "        s['log_return'] = np.log(s['Adj Close']/s['Prev Close'])\n",
                "        s['perc_return'] = (s['Adj Close']/s['Prev Close']) - 1\n",
                "        stocks[ticker] = s\n",
                "    return stocks\n",
                "\n",
                "# Initialize the dataset with historical data\n",
                "stocks = [\"AAPL\", \"IBM\", \"GOOG\", \"BP\", \"XOM\", \"COST\", \"GS\"]\n",
                "portfolio = get_data(stocks)"
            ],
            "outputs": [],
            "metadata": {}
        },
        {
            "cell_type": "markdown",
            "source": [
                "## Question 4a. Using historical daily returns, calculate VaR95% and CVaR95% of portfolio as of 2016/12/31\n",
                "### Calculate log return of portfolio by multiplying the weights with the log_returns of individual stocks each day\n",
                "### Find the 5th Percentile worst log_return which is the 95% VaR"
            ],
            "metadata": {}
        },
        {
            "cell_type": "code",
            "execution_count": 64,
            "source": [
                "# Set weights of stocks in portfolio — [\"AAPL\", \"IBM\", \"GOOG\", \"BP\", \"XOM\", \"COST\", \"GS\"]\n",
                "weights = np.array([0.15, 0.2, 0.2, 0.15,0.1,0.15,0.05])\n",
                "\n",
                "# Create column \"Previous Adj Close\" by shifting \"Adj Close\" down 1\n",
                "# Calculate percentage returns by taking (Adj Close / Previous Adj Close) - 1\n",
                "\n",
                "for stock in stocks:\n",
                "    portfolio[stock]['Previous Adj Close'] = portfolio[stock]['Adj Close'].shift(1)\n",
                "    portfolio[stock]['Perc_return'] = (portfolio[stock]['Adj Close'] / portfolio[stock]['Previous Adj Close']) - 1\n",
                "\n",
                "# Drop na rows, in this case, 2015-12-31 entry\n",
                "\n",
                "'''portfolio['AAPL'] = portfolio['AAPL'].dropna()\n",
                "portfolio['IBM'] = portfolio['IBM'].dropna()\n",
                "portfolio['GOOG'] = portfolio['GOOG'].dropna()\n",
                "portfolio['BP'] = portfolio['BP'].dropna()\n",
                "portfolio['XOM'] = portfolio['XOM'].dropna()\n",
                "portfolio['COST'] = portfolio['COST'].dropna()\n",
                "portfolio['GS'] = portfolio['GS'].dropna()'''\n",
                "\n",
                "\n",
                "portfolio['AAPL'].head(3)"
            ],
            "outputs": [
                {
                    "output_type": "execute_result",
                    "data": {
                        "text/plain": [
                            "           Ticker       High        Low       Open      Close       Volume  \\\n",
                            "Date                                                                         \n",
                            "2016-01-04   AAPL  26.342501  25.500000  25.652500  26.337500  270597600.0   \n",
                            "2016-01-05   AAPL  26.462500  25.602501  26.437500  25.677500  223164000.0   \n",
                            "2016-01-06   AAPL  25.592501  24.967501  25.139999  25.174999  273829600.0   \n",
                            "\n",
                            "            Adj Close  Prev Close  log_return  perc_return  \\\n",
                            "Date                                                         \n",
                            "2016-01-04  24.286833   24.266081    0.000855     0.000855   \n",
                            "2016-01-05  23.678219   24.286833   -0.025379    -0.025059   \n",
                            "2016-01-06  23.214844   23.678219   -0.019764    -0.019570   \n",
                            "\n",
                            "            Previous Adj Close  Perc_return  \n",
                            "Date                                         \n",
                            "2016-01-04           24.266081     0.000855  \n",
                            "2016-01-05           24.286833    -0.025059  \n",
                            "2016-01-06           23.678219    -0.019570  "
                        ],
                        "text/html": [
                            "<div>\n",
                            "<style scoped>\n",
                            "    .dataframe tbody tr th:only-of-type {\n",
                            "        vertical-align: middle;\n",
                            "    }\n",
                            "\n",
                            "    .dataframe tbody tr th {\n",
                            "        vertical-align: top;\n",
                            "    }\n",
                            "\n",
                            "    .dataframe thead th {\n",
                            "        text-align: right;\n",
                            "    }\n",
                            "</style>\n",
                            "<table border=\"1\" class=\"dataframe\">\n",
                            "  <thead>\n",
                            "    <tr style=\"text-align: right;\">\n",
                            "      <th></th>\n",
                            "      <th>Ticker</th>\n",
                            "      <th>High</th>\n",
                            "      <th>Low</th>\n",
                            "      <th>Open</th>\n",
                            "      <th>Close</th>\n",
                            "      <th>Volume</th>\n",
                            "      <th>Adj Close</th>\n",
                            "      <th>Prev Close</th>\n",
                            "      <th>log_return</th>\n",
                            "      <th>perc_return</th>\n",
                            "      <th>Previous Adj Close</th>\n",
                            "      <th>Perc_return</th>\n",
                            "    </tr>\n",
                            "    <tr>\n",
                            "      <th>Date</th>\n",
                            "      <th></th>\n",
                            "      <th></th>\n",
                            "      <th></th>\n",
                            "      <th></th>\n",
                            "      <th></th>\n",
                            "      <th></th>\n",
                            "      <th></th>\n",
                            "      <th></th>\n",
                            "      <th></th>\n",
                            "      <th></th>\n",
                            "      <th></th>\n",
                            "      <th></th>\n",
                            "    </tr>\n",
                            "  </thead>\n",
                            "  <tbody>\n",
                            "    <tr>\n",
                            "      <th>2016-01-04</th>\n",
                            "      <td>AAPL</td>\n",
                            "      <td>26.342501</td>\n",
                            "      <td>25.500000</td>\n",
                            "      <td>25.652500</td>\n",
                            "      <td>26.337500</td>\n",
                            "      <td>270597600.0</td>\n",
                            "      <td>24.286833</td>\n",
                            "      <td>24.266081</td>\n",
                            "      <td>0.000855</td>\n",
                            "      <td>0.000855</td>\n",
                            "      <td>24.266081</td>\n",
                            "      <td>0.000855</td>\n",
                            "    </tr>\n",
                            "    <tr>\n",
                            "      <th>2016-01-05</th>\n",
                            "      <td>AAPL</td>\n",
                            "      <td>26.462500</td>\n",
                            "      <td>25.602501</td>\n",
                            "      <td>26.437500</td>\n",
                            "      <td>25.677500</td>\n",
                            "      <td>223164000.0</td>\n",
                            "      <td>23.678219</td>\n",
                            "      <td>24.286833</td>\n",
                            "      <td>-0.025379</td>\n",
                            "      <td>-0.025059</td>\n",
                            "      <td>24.286833</td>\n",
                            "      <td>-0.025059</td>\n",
                            "    </tr>\n",
                            "    <tr>\n",
                            "      <th>2016-01-06</th>\n",
                            "      <td>AAPL</td>\n",
                            "      <td>25.592501</td>\n",
                            "      <td>24.967501</td>\n",
                            "      <td>25.139999</td>\n",
                            "      <td>25.174999</td>\n",
                            "      <td>273829600.0</td>\n",
                            "      <td>23.214844</td>\n",
                            "      <td>23.678219</td>\n",
                            "      <td>-0.019764</td>\n",
                            "      <td>-0.019570</td>\n",
                            "      <td>23.678219</td>\n",
                            "      <td>-0.019570</td>\n",
                            "    </tr>\n",
                            "  </tbody>\n",
                            "</table>\n",
                            "</div>"
                        ]
                    },
                    "metadata": {},
                    "execution_count": 64
                }
            ],
            "metadata": {}
        },
        {
            "cell_type": "code",
            "execution_count": 93,
            "source": [
                "# Create a portfolio dataframe to store perc_return, log_return\n",
                "portfolio_df = pd.DataFrame()\n",
                "portfolio_df.insert(0, \"Date\", portfolio['AAPL'].index)\n",
                "portfolio_df = portfolio_df.set_index(\"Date\")"
            ],
            "outputs": [],
            "metadata": {}
        },
        {
            "cell_type": "code",
            "execution_count": 95,
            "source": [
                "dates = portfolio_df.index.values\n",
                "for d in dates:\n",
                "    d_perc_return = []\n",
                "    for ticker in stocks:\n",
                "        d_perc_return.append(portfolio[ticker].loc[d, 'Perc_return'])\n",
                "    d_perc_return = np.array(d_perc_return)\n",
                "    portfolio_df.loc[d, \"Portfolio_perc_return\"] = np.sum(d_perc_return)\n"
            ],
            "outputs": [],
            "metadata": {}
        },
        {
            "cell_type": "code",
            "execution_count": 110,
            "source": [
                "# Convert percentage returns to log returns\n",
                "portfolio_df['Portfolio_log_return'] = np.log(portfolio_df['Portfolio_perc_return'] + 1)\n",
                "\n",
                "# Using historical data approach to find 95% VaR -> Find the 5th Percentile worst (log) return\n",
                "VaR_95 = -1* (portfolio_df['Portfolio_log_return'].quantile([0.05]).values[0])\n",
                "print(f\"The VaR95% of portfolio as of 2016/12/31 is {VaR_95}\")"
            ],
            "outputs": [
                {
                    "output_type": "stream",
                    "name": "stdout",
                    "text": [
                        "The VaR95% of portfolio as of 2016/12/31 is 0.10586921951621035\n"
                    ]
                }
            ],
            "metadata": {}
        },
        {
            "cell_type": "markdown",
            "source": [
                "## Q4ai. The VaR95% of portfolio as of 2016/12/31 is 0.10586921951621035 or 10.59% (4 sig. fig.) log return loss for 95% confidence."
            ],
            "metadata": {}
        },
        {
            "cell_type": "markdown",
            "source": [
                "### To find the CVaR95% or expected shortfall at 95% using Historical Data:\n",
                "### 1. Find sum of loss returns larger than VaR95%\n",
                "### 2. Divide sum by number of days * alpha, where alpha = 0.05%\n"
            ],
            "metadata": {}
        },
        {
            "cell_type": "code",
            "execution_count": 114,
            "source": [
                "loss_return = 0\n",
                "for d in dates:\n",
                "    if portfolio_df.loc[d, 'Portfolio_log_return'] < (-1 * VaR_95):\n",
                "        loss_return += portfolio_df.loc[d, 'Portfolio_log_return']\n",
                "\n",
                "CVaR_95 = -1*(loss_return/(len(dates) * 0.05))\n",
                "print(f\"The CVaR95% of portfolio as of 2016/12/31 is {CVaR_95}\")\n"
            ],
            "outputs": [
                {
                    "output_type": "stream",
                    "name": "stdout",
                    "text": [
                        "The CVaR95% of portfolio as of 2016/12/31 is 0.17560943012814598\n"
                    ]
                }
            ],
            "metadata": {}
        },
        {
            "cell_type": "markdown",
            "source": [
                "## Q4aii. The CVaR95% or Expected Shortfall of portfolio as of 2016/12/31 is 0.17560943012814598 or 17.56% (4 sig fig) log return loss for 95% confidence.\n",
                "---"
            ],
            "metadata": {}
        },
        {
            "cell_type": "markdown",
            "source": [
                "## Q4b. Calculate VaR95% and CVaR95% using parametric method\n",
                "### Assumption: returns are normally distributed\n",
                "### Formula of Parametric VaR95% = $VaR^p_t = -\\sigma_{PF,t}*\\Phi^{-1}_p$, where p = 0.05"
            ],
            "metadata": {}
        },
        {
            "cell_type": "code",
            "execution_count": 120,
            "source": [
                "# Create a new dataframe for question4b with each stocks' log returns\n",
                "portfolio_parametric = pd.DataFrame()\n",
                "\n",
                "# Insert date as index, use AAPL's date or any ticker will do\n",
                "portfolio_parametric.insert(0, \"Date\", portfolio['AAPL'].index)\n",
                "portfolio_parametric = portfolio_parametric.set_index(\"Date\")\n",
                "\n",
                "for d in dates:\n",
                "    for ticker in stocks:\n",
                "        col_perc = ticker + \" perc_returns\"\n",
                "        col_log = ticker + \" log_returns\"\n",
                "        portfolio_parametric.loc[d, col_perc] = portfolio[ticker].loc[d, 'Perc_return']\n",
                "        portfolio_parametric.loc[d, col_log] = np.log(portfolio[ticker].loc[d, 'Perc_return']+1)\n",
                "\n",
                "portfolio_parametric.head(3)\n"
            ],
            "outputs": [
                {
                    "output_type": "execute_result",
                    "data": {
                        "text/plain": [
                            "            AAPL perc_returns  AAPL log_returns  IBM perc_returns  \\\n",
                            "Date                                                                \n",
                            "2016-01-04           0.000855          0.000855         -0.012135   \n",
                            "2016-01-05          -0.025059         -0.025379         -0.000735   \n",
                            "2016-01-06          -0.019570         -0.019764         -0.005006   \n",
                            "\n",
                            "            IBM log_returns  GOOG perc_returns  GOOG log_returns  \\\n",
                            "Date                                                               \n",
                            "2016-01-04        -0.012209          -0.022454         -0.022710   \n",
                            "2016-01-05        -0.000736           0.000998          0.000997   \n",
                            "2016-01-06        -0.005018           0.001400          0.001400   \n",
                            "\n",
                            "            BP perc_returns  BP log_returns  XOM perc_returns  \\\n",
                            "Date                                                            \n",
                            "2016-01-04        -0.006398       -0.006419         -0.006286   \n",
                            "2016-01-05        -0.004185       -0.004194          0.008521   \n",
                            "2016-01-06        -0.020369       -0.020579         -0.008321   \n",
                            "\n",
                            "            XOM log_returns  COST perc_returns  COST log_returns  \\\n",
                            "Date                                                               \n",
                            "2016-01-04        -0.006306          -0.012136         -0.012210   \n",
                            "2016-01-05         0.008485           0.002444          0.002441   \n",
                            "2016-01-06        -0.008356          -0.009254         -0.009297   \n",
                            "\n",
                            "            GS perc_returns  GS log_returns  \n",
                            "Date                                         \n",
                            "2016-01-04        -0.017145       -0.017293  \n",
                            "2016-01-05        -0.017218       -0.017368  \n",
                            "2016-01-06        -0.024412       -0.024715  "
                        ],
                        "text/html": [
                            "<div>\n",
                            "<style scoped>\n",
                            "    .dataframe tbody tr th:only-of-type {\n",
                            "        vertical-align: middle;\n",
                            "    }\n",
                            "\n",
                            "    .dataframe tbody tr th {\n",
                            "        vertical-align: top;\n",
                            "    }\n",
                            "\n",
                            "    .dataframe thead th {\n",
                            "        text-align: right;\n",
                            "    }\n",
                            "</style>\n",
                            "<table border=\"1\" class=\"dataframe\">\n",
                            "  <thead>\n",
                            "    <tr style=\"text-align: right;\">\n",
                            "      <th></th>\n",
                            "      <th>AAPL perc_returns</th>\n",
                            "      <th>AAPL log_returns</th>\n",
                            "      <th>IBM perc_returns</th>\n",
                            "      <th>IBM log_returns</th>\n",
                            "      <th>GOOG perc_returns</th>\n",
                            "      <th>GOOG log_returns</th>\n",
                            "      <th>BP perc_returns</th>\n",
                            "      <th>BP log_returns</th>\n",
                            "      <th>XOM perc_returns</th>\n",
                            "      <th>XOM log_returns</th>\n",
                            "      <th>COST perc_returns</th>\n",
                            "      <th>COST log_returns</th>\n",
                            "      <th>GS perc_returns</th>\n",
                            "      <th>GS log_returns</th>\n",
                            "    </tr>\n",
                            "    <tr>\n",
                            "      <th>Date</th>\n",
                            "      <th></th>\n",
                            "      <th></th>\n",
                            "      <th></th>\n",
                            "      <th></th>\n",
                            "      <th></th>\n",
                            "      <th></th>\n",
                            "      <th></th>\n",
                            "      <th></th>\n",
                            "      <th></th>\n",
                            "      <th></th>\n",
                            "      <th></th>\n",
                            "      <th></th>\n",
                            "      <th></th>\n",
                            "      <th></th>\n",
                            "    </tr>\n",
                            "  </thead>\n",
                            "  <tbody>\n",
                            "    <tr>\n",
                            "      <th>2016-01-04</th>\n",
                            "      <td>0.000855</td>\n",
                            "      <td>0.000855</td>\n",
                            "      <td>-0.012135</td>\n",
                            "      <td>-0.012209</td>\n",
                            "      <td>-0.022454</td>\n",
                            "      <td>-0.022710</td>\n",
                            "      <td>-0.006398</td>\n",
                            "      <td>-0.006419</td>\n",
                            "      <td>-0.006286</td>\n",
                            "      <td>-0.006306</td>\n",
                            "      <td>-0.012136</td>\n",
                            "      <td>-0.012210</td>\n",
                            "      <td>-0.017145</td>\n",
                            "      <td>-0.017293</td>\n",
                            "    </tr>\n",
                            "    <tr>\n",
                            "      <th>2016-01-05</th>\n",
                            "      <td>-0.025059</td>\n",
                            "      <td>-0.025379</td>\n",
                            "      <td>-0.000735</td>\n",
                            "      <td>-0.000736</td>\n",
                            "      <td>0.000998</td>\n",
                            "      <td>0.000997</td>\n",
                            "      <td>-0.004185</td>\n",
                            "      <td>-0.004194</td>\n",
                            "      <td>0.008521</td>\n",
                            "      <td>0.008485</td>\n",
                            "      <td>0.002444</td>\n",
                            "      <td>0.002441</td>\n",
                            "      <td>-0.017218</td>\n",
                            "      <td>-0.017368</td>\n",
                            "    </tr>\n",
                            "    <tr>\n",
                            "      <th>2016-01-06</th>\n",
                            "      <td>-0.019570</td>\n",
                            "      <td>-0.019764</td>\n",
                            "      <td>-0.005006</td>\n",
                            "      <td>-0.005018</td>\n",
                            "      <td>0.001400</td>\n",
                            "      <td>0.001400</td>\n",
                            "      <td>-0.020369</td>\n",
                            "      <td>-0.020579</td>\n",
                            "      <td>-0.008321</td>\n",
                            "      <td>-0.008356</td>\n",
                            "      <td>-0.009254</td>\n",
                            "      <td>-0.009297</td>\n",
                            "      <td>-0.024412</td>\n",
                            "      <td>-0.024715</td>\n",
                            "    </tr>\n",
                            "  </tbody>\n",
                            "</table>\n",
                            "</div>"
                        ]
                    },
                    "metadata": {},
                    "execution_count": 120
                }
            ],
            "metadata": {}
        },
        {
            "cell_type": "code",
            "execution_count": 176,
            "source": [
                "# QQ Plot to check for normality in log_returns\n",
                "# All closely scattered on the diagonal line with a few deviations\n",
                "# Especially at the ends which deviates relatively more from the diagonal line\n",
                "from statsmodels.graphics.gofplots import qqplot\n",
                "import warnings\n",
                "warnings.filterwarnings('ignore')\n",
                "\n",
                "qqplot(portfolio_parametric['AAPL log_returns'], line='s')\n",
                "plt.title('AAPL')\n",
                "qqplot(portfolio_parametric['IBM log_returns'], line='s')\n",
                "plt.title('IBM')\n",
                "qqplot(portfolio_parametric['GOOG log_returns'], line='s')\n",
                "plt.title('GOOG')\n",
                "qqplot(portfolio_parametric['BP log_returns'], line='s')\n",
                "plt.title('BP')\n",
                "qqplot(portfolio_parametric['XOM log_returns'], line='s')\n",
                "plt.title('XOM')\n",
                "qqplot(portfolio_parametric['COST log_returns'], line='s')\n",
                "plt.title('COST')\n",
                "qqplot(portfolio_parametric['GS log_returns'], line='s')\n",
                "plt.title('GS')\n",
                "\n",
                "plt.show()\n"
            ],
            "outputs": [
                {
                    "output_type": "display_data",
                    "data": {
                        "text/plain": [
                            "<Figure size 432x288 with 1 Axes>"
                        ],
                        "image/png": "[encoded data removed]"
                    },
                    "metadata": {
                        "needs_background": "light"
                    }
                },
                {
                    "output_type": "display_data",
                    "data": {
                        "text/plain": [
                            "<Figure size 432x288 with 1 Axes>"
                        ],
                        "image/png": "[encoded data removed]"
                    },
                    "metadata": {
                        "needs_background": "light"
                    }
                },
                {
                    "output_type": "display_data",
                    "data": {
                        "text/plain": [
                            "<Figure size 432x288 with 1 Axes>"
                        ],
                        "image/png": "[encoded data removed]"
                    },
                    "metadata": {
                        "needs_background": "light"
                    }
                },
                {
                    "output_type": "display_data",
                    "data": {
                        "text/plain": [
                            "<Figure size 432x288 with 1 Axes>"
                        ],
                        "image/png": "[encoded data removed]"
                    },
                    "metadata": {
                        "needs_background": "light"
                    }
                },
                {
                    "output_type": "display_data",
                    "data": {
                        "text/plain": [
                            "<Figure size 432x288 with 1 Axes>"
                        ],
                        "image/png": "[encoded data removed]"
                    },
                    "metadata": {
                        "needs_background": "light"
                    }
                },
                {
                    "output_type": "display_data",
                    "data": {
                        "text/plain": [
                            "<Figure size 432x288 with 1 Axes>"
                        ],
                        "image/png": "[encoded data removed]"
                    },
                    "metadata": {
                        "needs_background": "light"
                    }
                },
                {
                    "output_type": "display_data",
                    "data": {
                        "text/plain": [
                            "<Figure size 432x288 with 1 Axes>"
                        ],
                        "image/png": "[encoded data removed]"
                    },
                    "metadata": {
                        "needs_background": "light"
                    }
                }
            ],
            "metadata": {}
        },
        {
            "cell_type": "code",
            "execution_count": 177,
            "source": [
                "portfolio_parametric.head(3)"
            ],
            "outputs": [
                {
                    "output_type": "execute_result",
                    "data": {
                        "text/plain": [
                            "            AAPL perc_returns  AAPL log_returns  IBM perc_returns  \\\n",
                            "Date                                                                \n",
                            "2016-01-04           0.000855          0.000855         -0.012135   \n",
                            "2016-01-05          -0.025059         -0.025379         -0.000735   \n",
                            "2016-01-06          -0.019570         -0.019764         -0.005006   \n",
                            "\n",
                            "            IBM log_returns  GOOG perc_returns  GOOG log_returns  \\\n",
                            "Date                                                               \n",
                            "2016-01-04        -0.012209          -0.022454         -0.022710   \n",
                            "2016-01-05        -0.000736           0.000998          0.000997   \n",
                            "2016-01-06        -0.005018           0.001400          0.001400   \n",
                            "\n",
                            "            BP perc_returns  BP log_returns  XOM perc_returns  \\\n",
                            "Date                                                            \n",
                            "2016-01-04        -0.006398       -0.006419         -0.006286   \n",
                            "2016-01-05        -0.004185       -0.004194          0.008521   \n",
                            "2016-01-06        -0.020369       -0.020579         -0.008321   \n",
                            "\n",
                            "            XOM log_returns  COST perc_returns  COST log_returns  \\\n",
                            "Date                                                               \n",
                            "2016-01-04        -0.006306          -0.012136         -0.012210   \n",
                            "2016-01-05         0.008485           0.002444          0.002441   \n",
                            "2016-01-06        -0.008356          -0.009254         -0.009297   \n",
                            "\n",
                            "            GS perc_returns  GS log_returns  \n",
                            "Date                                         \n",
                            "2016-01-04        -0.017145       -0.017293  \n",
                            "2016-01-05        -0.017218       -0.017368  \n",
                            "2016-01-06        -0.024412       -0.024715  "
                        ],
                        "text/html": [
                            "<div>\n",
                            "<style scoped>\n",
                            "    .dataframe tbody tr th:only-of-type {\n",
                            "        vertical-align: middle;\n",
                            "    }\n",
                            "\n",
                            "    .dataframe tbody tr th {\n",
                            "        vertical-align: top;\n",
                            "    }\n",
                            "\n",
                            "    .dataframe thead th {\n",
                            "        text-align: right;\n",
                            "    }\n",
                            "</style>\n",
                            "<table border=\"1\" class=\"dataframe\">\n",
                            "  <thead>\n",
                            "    <tr style=\"text-align: right;\">\n",
                            "      <th></th>\n",
                            "      <th>AAPL perc_returns</th>\n",
                            "      <th>AAPL log_returns</th>\n",
                            "      <th>IBM perc_returns</th>\n",
                            "      <th>IBM log_returns</th>\n",
                            "      <th>GOOG perc_returns</th>\n",
                            "      <th>GOOG log_returns</th>\n",
                            "      <th>BP perc_returns</th>\n",
                            "      <th>BP log_returns</th>\n",
                            "      <th>XOM perc_returns</th>\n",
                            "      <th>XOM log_returns</th>\n",
                            "      <th>COST perc_returns</th>\n",
                            "      <th>COST log_returns</th>\n",
                            "      <th>GS perc_returns</th>\n",
                            "      <th>GS log_returns</th>\n",
                            "    </tr>\n",
                            "    <tr>\n",
                            "      <th>Date</th>\n",
                            "      <th></th>\n",
                            "      <th></th>\n",
                            "      <th></th>\n",
                            "      <th></th>\n",
                            "      <th></th>\n",
                            "      <th></th>\n",
                            "      <th></th>\n",
                            "      <th></th>\n",
                            "      <th></th>\n",
                            "      <th></th>\n",
                            "      <th></th>\n",
                            "      <th></th>\n",
                            "      <th></th>\n",
                            "      <th></th>\n",
                            "    </tr>\n",
                            "  </thead>\n",
                            "  <tbody>\n",
                            "    <tr>\n",
                            "      <th>2016-01-04</th>\n",
                            "      <td>0.000855</td>\n",
                            "      <td>0.000855</td>\n",
                            "      <td>-0.012135</td>\n",
                            "      <td>-0.012209</td>\n",
                            "      <td>-0.022454</td>\n",
                            "      <td>-0.022710</td>\n",
                            "      <td>-0.006398</td>\n",
                            "      <td>-0.006419</td>\n",
                            "      <td>-0.006286</td>\n",
                            "      <td>-0.006306</td>\n",
                            "      <td>-0.012136</td>\n",
                            "      <td>-0.012210</td>\n",
                            "      <td>-0.017145</td>\n",
                            "      <td>-0.017293</td>\n",
                            "    </tr>\n",
                            "    <tr>\n",
                            "      <th>2016-01-05</th>\n",
                            "      <td>-0.025059</td>\n",
                            "      <td>-0.025379</td>\n",
                            "      <td>-0.000735</td>\n",
                            "      <td>-0.000736</td>\n",
                            "      <td>0.000998</td>\n",
                            "      <td>0.000997</td>\n",
                            "      <td>-0.004185</td>\n",
                            "      <td>-0.004194</td>\n",
                            "      <td>0.008521</td>\n",
                            "      <td>0.008485</td>\n",
                            "      <td>0.002444</td>\n",
                            "      <td>0.002441</td>\n",
                            "      <td>-0.017218</td>\n",
                            "      <td>-0.017368</td>\n",
                            "    </tr>\n",
                            "    <tr>\n",
                            "      <th>2016-01-06</th>\n",
                            "      <td>-0.019570</td>\n",
                            "      <td>-0.019764</td>\n",
                            "      <td>-0.005006</td>\n",
                            "      <td>-0.005018</td>\n",
                            "      <td>0.001400</td>\n",
                            "      <td>0.001400</td>\n",
                            "      <td>-0.020369</td>\n",
                            "      <td>-0.020579</td>\n",
                            "      <td>-0.008321</td>\n",
                            "      <td>-0.008356</td>\n",
                            "      <td>-0.009254</td>\n",
                            "      <td>-0.009297</td>\n",
                            "      <td>-0.024412</td>\n",
                            "      <td>-0.024715</td>\n",
                            "    </tr>\n",
                            "  </tbody>\n",
                            "</table>\n",
                            "</div>"
                        ]
                    },
                    "metadata": {},
                    "execution_count": 177
                }
            ],
            "metadata": {}
        },
        {
            "cell_type": "code",
            "execution_count": 194,
            "source": [
                "# Find the mean log return of portfolio\n",
                "mean_stock_return = portfolio_parametric[['AAPL log_returns', 'IBM log_returns', 'GOOG log_returns', 'BP log_returns', 'XOM log_returns', 'COST log_returns', 'GS log_returns']].mean()\n",
                "# mean_stock_return\n",
                "\n",
                "# Convert mean log returns to mean perc returns before getting the weighted mean\n",
                "returns = np.exp(mean_stock_return.values) - 1\n",
                "mean_return = np.dot(weights, returns)\n",
                "\n",
                "# Convert back to weighted mean log returns\n",
                "mean_log_returns = np.log(1+mean_return)\n",
                "weighted_mean = mean_log_returns\n",
                "\n",
                "weighted_mean"
            ],
            "outputs": [
                {
                    "output_type": "execute_result",
                    "data": {
                        "text/plain": [
                            "0.0005463161572864208"
                        ]
                    },
                    "metadata": {},
                    "execution_count": 194
                }
            ],
            "metadata": {}
        },
        {
            "cell_type": "code",
            "execution_count": 189,
            "source": [
                "# Find the variance-covariance matrix\n",
                "\n",
                "mat_df = portfolio_parametric[['AAPL log_returns', 'IBM log_returns', 'GOOG log_returns', 'BP log_returns', 'XOM log_returns', 'COST log_returns', 'GS log_returns']].values\n",
                "vcv = np.cov(mat_df.T)\n",
                "# Convert variance-covariance matrix\n",
                "vcv_perc = np.exp(vcv)-1\n",
                "vcv_perc"
            ],
            "outputs": [
                {
                    "output_type": "execute_result",
                    "data": {
                        "text/plain": [
                            "array([[2.16799092e-04, 5.62071553e-05, 8.73304727e-05, 7.92382650e-05,\n",
                            "        4.80110064e-05, 5.13749833e-05, 9.00618213e-05],\n",
                            "       [5.62071553e-05, 1.56094557e-04, 5.44175624e-05, 9.56953604e-05,\n",
                            "        6.53709973e-05, 2.47656503e-05, 9.10756969e-05],\n",
                            "       [8.73304727e-05, 5.44175624e-05, 1.59624959e-04, 4.87988992e-05,\n",
                            "        2.96416375e-05, 5.02992015e-05, 6.73494093e-05],\n",
                            "       [7.92382650e-05, 9.56953604e-05, 4.87988992e-05, 3.43085375e-04,\n",
                            "        1.51720805e-04, 2.71045944e-05, 1.69492695e-04],\n",
                            "       [4.80110064e-05, 6.53709973e-05, 2.96416375e-05, 1.51720805e-04,\n",
                            "        1.44408641e-04, 2.18347849e-05, 8.51148558e-05],\n",
                            "       [5.13749833e-05, 2.47656503e-05, 5.02992015e-05, 2.71045944e-05,\n",
                            "        2.18347849e-05, 1.22278029e-04, 4.73509779e-05],\n",
                            "       [9.00618213e-05, 9.10756969e-05, 6.73494093e-05, 1.69492695e-04,\n",
                            "        8.51148558e-05, 4.73509779e-05, 2.87060124e-04]])"
                        ]
                    },
                    "metadata": {},
                    "execution_count": 189
                }
            ],
            "metadata": {}
        },
        {
            "cell_type": "code",
            "execution_count": 190,
            "source": [
                "# get the percentage variance returns of portfolio\n",
                "variance_perc = np.dot(weights, np.dot(vcv_perc, weights))\n",
                "variance_perc"
            ],
            "outputs": [
                {
                    "output_type": "execute_result",
                    "data": {
                        "text/plain": [
                            "8.244642213246999e-05"
                        ]
                    },
                    "metadata": {},
                    "execution_count": 190
                }
            ],
            "metadata": {}
        },
        {
            "cell_type": "code",
            "execution_count": 195,
            "source": [
                "# Formula for parametric VaR is mean + volatility*(z_alpha) where z_alpha = inverse CDF of normal dist at alpha = 5%\n",
                "variance = np.log(variance_perc+1)\n",
                "volatility = sqrt(variance)\n",
                "z_alpha = norm.ppf(0.05, loc=0, scale=1)\n",
                "\n",
                "# 95% VaR\n",
                "VaR_portfolio = -1*(weighted_mean + volatility*z_alpha)\n",
                "print(f\"The VaR95% calculated using Parametric method is {VaR_portfolio}.\")"
            ],
            "outputs": [
                {
                    "output_type": "stream",
                    "name": "stdout",
                    "text": [
                        "The VaR95% calculated using Parametric method is 0.014388648953891615.\n"
                    ]
                }
            ],
            "metadata": {}
        },
        {
            "cell_type": "markdown",
            "source": [
                "## Q4bi. The VaR95% of portfolio using Parametric method as of 2016/12/31 is 0.014388648953891615 or 1.44% (4 sig. fig.) log return loss for 95% confidence."
            ],
            "metadata": {}
        },
        {
            "cell_type": "markdown",
            "source": [
                "## Parametric CVaR95% or Parametric Expected Shortfall:\n",
                "$$ ES^P_{t} = \\sigma_{PF, t} * \\frac{\\varphi(\\Phi^{-1}_{p})}{p}$$\n",
                "### where p = alpha (1-confidence level)"
            ],
            "metadata": {}
        },
        {
            "cell_type": "markdown",
            "source": [],
            "metadata": {}
        },
        {
            "cell_type": "code",
            "execution_count": 200,
            "source": [
                "CVaR95_parametric = weighted_mean + volatility*(norm.pdf(z_alpha)/(0.05))\n",
                "print(f\"The CVaR95% calculated using Parametric method is {CVaR95_parametric}\")"
            ],
            "outputs": [
                {
                    "output_type": "stream",
                    "name": "stdout",
                    "text": [
                        "The CVaR95% calculated using Parametric method is 0.019275364936903065\n"
                    ]
                }
            ],
            "metadata": {}
        },
        {
            "cell_type": "markdown",
            "source": [
                "## Q4bii. The CVaR95% or Expected Shortfall calculated using Parametric method is 0.019275364936903065 or 19.28% (4 sig fig) log return loss for 95% confidence.\n",
                "---"
            ],
            "metadata": {}
        },
        {
            "cell_type": "code",
            "execution_count": null,
            "source": [],
            "outputs": [],
            "metadata": {}
        }
    ],
    "metadata": {
        "orig_nbformat": 4,
        "language_info": {
            "name": "python",
            "version": "3.9.6",
            "mimetype": "text/x-python",
            "codemirror_mode": {
                "name": "ipython",
                "version": 3
            },
            "pygments_lexer": "ipython3",
            "nbconvert_exporter": "python",
            "file_extension": ".py"
        },
        "kernelspec": {
            "name": "python3",
            "display_name": "Python 3.9.6 64-bit"
        },
        "interpreter": {
            "hash": "aee8b7b246df8f9039afb4144a1f6fd8d2ca17a180786b69acc140d282b71a49"
        }
    },
    "nbformat": 4,
    "nbformat_minor": 2
}