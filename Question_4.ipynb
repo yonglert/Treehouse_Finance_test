{
    "cells": [
        {
            "cell_type": "code",
            "execution_count": 2,
            "source": [
                "# Import libraries\n",
                "from functools import reduce\n",
                "import numpy as np\n",
                "import pandas as pd\n",
                "import matplotlib.pyplot as plt\n",
                "from math import sqrt, exp\n",
                "from pandas_datareader.data import DataReader\n",
                "import requests_cache\n",
                "%matplotlib inline"
            ],
            "outputs": [],
            "metadata": {}
        },
        {
            "cell_type": "code",
            "execution_count": 62,
            "source": [
                "# Download data from pandas datareader -> AAPL.O, IBM.N, GOOG.O, BP.N, XOM.N, COST.O, GS.N\n",
                "# Start: 01/01/2016\n",
                "# End: 31/12/2016\n",
                "# Create a dictionary: Key -> Ticker, Value -> Historical data from Start_Date to End_Date\n",
                "\n",
                "session = requests_cache.CachedSession(cache_name='cache',backend='sqlite')\n",
                "session.headers = {'User-Agent': 'Mozilla/5.0 (X11; Ubuntu; Linux x86_64; rv:89.0) Gecko/20100101 Firefox/89.0',\n",
                "                   'Accept': 'application/json;charset=utf-8'}\n",
                "\n",
                "def get_data(tickers, start_date=\"2016-01-01\", end_date=\"2016-12-31\"):\n",
                "    stocks = dict()\n",
                "    for ticker in tickers:\n",
                "        s = DataReader(ticker, 'yahoo', start_date, end_date, session=session)\n",
                "        s.insert(0, \"Ticker\", ticker)\n",
                "        s['Prev Close'] = s['Adj Close'].shift(1)\n",
                "        s['log_return'] = np.log(s['Adj Close']/s['Prev Close'])\n",
                "        s['perc_return'] = (s['Adj Close']/s['Prev Close']) - 1\n",
                "        stocks[ticker] = s\n",
                "    return stocks\n",
                "\n",
                "# Initialize the dataset with historical data\n",
                "stocks = [\"AAPL\", \"IBM\", \"GOOG\", \"BP\", \"XOM\", \"COST\", \"GS\"]\n",
                "portfolio = get_data(stocks)"
            ],
            "outputs": [],
            "metadata": {}
        },
        {
            "cell_type": "markdown",
            "source": [
                "## Question 4a. Using historical daily returns, calculate VaR95% and CVaR95% of portfolio as of 2016/12/31"
            ],
            "metadata": {}
        },
        {
            "cell_type": "code",
            "execution_count": 64,
            "source": [
                "# Set weights of stocks in portfolio — [\"AAPL\", \"IBM\", \"GOOG\", \"BP\", \"XOM\", \"COST\", \"GS\"]\n",
                "weights = np.array([0.15, 0.2, 0.2, 0.15,0.1,0.15,0.05])\n",
                "\n",
                "# Create column \"Previous Adj Close\" by shifting \"Adj Close\" down 1\n",
                "# Calculate percentage returns by taking (Adj Close / Previous Adj Close) - 1\n",
                "\n",
                "for stock in stocks:\n",
                "    portfolio[stock]['Previous Adj Close'] = portfolio[stock]['Adj Close'].shift(1)\n",
                "    portfolio[stock]['Perc_return'] = (portfolio[stock]['Adj Close'] / portfolio[stock]['Previous Adj Close']) - 1\n",
                "\n",
                "# Drop na rows, in this case, 2015-12-31 entry\n",
                "\n",
                "'''portfolio['AAPL'] = portfolio['AAPL'].dropna()\n",
                "portfolio['IBM'] = portfolio['IBM'].dropna()\n",
                "portfolio['GOOG'] = portfolio['GOOG'].dropna()\n",
                "portfolio['BP'] = portfolio['BP'].dropna()\n",
                "portfolio['XOM'] = portfolio['XOM'].dropna()\n",
                "portfolio['COST'] = portfolio['COST'].dropna()\n",
                "portfolio['GS'] = portfolio['GS'].dropna()'''\n",
                "\n",
                "\n",
                "portfolio['AAPL'].head(3)"
            ],
            "outputs": [
                {
                    "output_type": "execute_result",
                    "data": {
                        "text/plain": [
                            "           Ticker       High        Low       Open      Close       Volume  \\\n",
                            "Date                                                                         \n",
                            "2016-01-04   AAPL  26.342501  25.500000  25.652500  26.337500  270597600.0   \n",
                            "2016-01-05   AAPL  26.462500  25.602501  26.437500  25.677500  223164000.0   \n",
                            "2016-01-06   AAPL  25.592501  24.967501  25.139999  25.174999  273829600.0   \n",
                            "\n",
                            "            Adj Close  Prev Close  log_return  perc_return  \\\n",
                            "Date                                                         \n",
                            "2016-01-04  24.286833   24.266081    0.000855     0.000855   \n",
                            "2016-01-05  23.678219   24.286833   -0.025379    -0.025059   \n",
                            "2016-01-06  23.214844   23.678219   -0.019764    -0.019570   \n",
                            "\n",
                            "            Previous Adj Close  Perc_return  \n",
                            "Date                                         \n",
                            "2016-01-04           24.266081     0.000855  \n",
                            "2016-01-05           24.286833    -0.025059  \n",
                            "2016-01-06           23.678219    -0.019570  "
                        ],
                        "text/html": [
                            "<div>\n",
                            "<style scoped>\n",
                            "    .dataframe tbody tr th:only-of-type {\n",
                            "        vertical-align: middle;\n",
                            "    }\n",
                            "\n",
                            "    .dataframe tbody tr th {\n",
                            "        vertical-align: top;\n",
                            "    }\n",
                            "\n",
                            "    .dataframe thead th {\n",
                            "        text-align: right;\n",
                            "    }\n",
                            "</style>\n",
                            "<table border=\"1\" class=\"dataframe\">\n",
                            "  <thead>\n",
                            "    <tr style=\"text-align: right;\">\n",
                            "      <th></th>\n",
                            "      <th>Ticker</th>\n",
                            "      <th>High</th>\n",
                            "      <th>Low</th>\n",
                            "      <th>Open</th>\n",
                            "      <th>Close</th>\n",
                            "      <th>Volume</th>\n",
                            "      <th>Adj Close</th>\n",
                            "      <th>Prev Close</th>\n",
                            "      <th>log_return</th>\n",
                            "      <th>perc_return</th>\n",
                            "      <th>Previous Adj Close</th>\n",
                            "      <th>Perc_return</th>\n",
                            "    </tr>\n",
                            "    <tr>\n",
                            "      <th>Date</th>\n",
                            "      <th></th>\n",
                            "      <th></th>\n",
                            "      <th></th>\n",
                            "      <th></th>\n",
                            "      <th></th>\n",
                            "      <th></th>\n",
                            "      <th></th>\n",
                            "      <th></th>\n",
                            "      <th></th>\n",
                            "      <th></th>\n",
                            "      <th></th>\n",
                            "      <th></th>\n",
                            "    </tr>\n",
                            "  </thead>\n",
                            "  <tbody>\n",
                            "    <tr>\n",
                            "      <th>2016-01-04</th>\n",
                            "      <td>AAPL</td>\n",
                            "      <td>26.342501</td>\n",
                            "      <td>25.500000</td>\n",
                            "      <td>25.652500</td>\n",
                            "      <td>26.337500</td>\n",
                            "      <td>270597600.0</td>\n",
                            "      <td>24.286833</td>\n",
                            "      <td>24.266081</td>\n",
                            "      <td>0.000855</td>\n",
                            "      <td>0.000855</td>\n",
                            "      <td>24.266081</td>\n",
                            "      <td>0.000855</td>\n",
                            "    </tr>\n",
                            "    <tr>\n",
                            "      <th>2016-01-05</th>\n",
                            "      <td>AAPL</td>\n",
                            "      <td>26.462500</td>\n",
                            "      <td>25.602501</td>\n",
                            "      <td>26.437500</td>\n",
                            "      <td>25.677500</td>\n",
                            "      <td>223164000.0</td>\n",
                            "      <td>23.678219</td>\n",
                            "      <td>24.286833</td>\n",
                            "      <td>-0.025379</td>\n",
                            "      <td>-0.025059</td>\n",
                            "      <td>24.286833</td>\n",
                            "      <td>-0.025059</td>\n",
                            "    </tr>\n",
                            "    <tr>\n",
                            "      <th>2016-01-06</th>\n",
                            "      <td>AAPL</td>\n",
                            "      <td>25.592501</td>\n",
                            "      <td>24.967501</td>\n",
                            "      <td>25.139999</td>\n",
                            "      <td>25.174999</td>\n",
                            "      <td>273829600.0</td>\n",
                            "      <td>23.214844</td>\n",
                            "      <td>23.678219</td>\n",
                            "      <td>-0.019764</td>\n",
                            "      <td>-0.019570</td>\n",
                            "      <td>23.678219</td>\n",
                            "      <td>-0.019570</td>\n",
                            "    </tr>\n",
                            "  </tbody>\n",
                            "</table>\n",
                            "</div>"
                        ]
                    },
                    "metadata": {},
                    "execution_count": 64
                }
            ],
            "metadata": {}
        },
        {
            "cell_type": "code",
            "execution_count": 93,
            "source": [
                "# Create a portfolio dataframe to store perc_return, log_return\n",
                "portfolio_df = pd.DataFrame()\n",
                "portfolio_df.insert(0, \"Date\", portfolio['AAPL'].index)\n",
                "portfolio_df = portfolio_df.set_index(\"Date\")"
            ],
            "outputs": [],
            "metadata": {}
        },
        {
            "cell_type": "code",
            "execution_count": 95,
            "source": [
                "dates = portfolio_df.index.values\n",
                "for d in dates:\n",
                "    d_perc_return = []\n",
                "    for ticker in stocks:\n",
                "        d_perc_return.append(portfolio[ticker].loc[d, 'Perc_return'])\n",
                "    d_perc_return = np.array(d_perc_return)\n",
                "    portfolio_df.loc[d, \"Portfolio_perc_return\"] = np.sum(d_perc_return)\n"
            ],
            "outputs": [],
            "metadata": {}
        },
        {
            "cell_type": "code",
            "execution_count": 110,
            "source": [
                "# Convert percentage returns to log returns\n",
                "portfolio_df['Portfolio_log_return'] = np.log(portfolio_df['Portfolio_perc_return'] + 1)\n",
                "\n",
                "# Using historical data approach to find 95% VaR -> Find the 5th Percentile worst (log) return\n",
                "VaR_95 = -1* (portfolio_df['Portfolio_log_return'].quantile([0.05]).values[0])\n",
                "print(f\"The VaR95% of portfolio as of 2016/12/31 is {VaR_95}\")"
            ],
            "outputs": [
                {
                    "output_type": "stream",
                    "name": "stdout",
                    "text": [
                        "The VaR95% of portfolio as of 2016/12/31 is 0.10586921951621035\n"
                    ]
                }
            ],
            "metadata": {}
        },
        {
            "cell_type": "markdown",
            "source": [
                "## Q4ai. The VaR95% of portfolio as of 2016/12/31 is 0.10586921951621035 or 10.59% (4 sig. fig.) log return loss for 95% confidence."
            ],
            "metadata": {}
        },
        {
            "cell_type": "markdown",
            "source": [
                "### To find the CVaR95% or expected shortfall at 95% using Historical Data:\n",
                "### 1. Find sum of loss returns larger than VaR95%\n",
                "### 2. Divide sum by number of days * alpha, where alpha = 0.05%\n"
            ],
            "metadata": {}
        },
        {
            "cell_type": "code",
            "execution_count": 114,
            "source": [
                "loss_return = 0\n",
                "for d in dates:\n",
                "    if portfolio_df.loc[d, 'Portfolio_log_return'] < (-1 * VaR_95):\n",
                "        loss_return += portfolio_df.loc[d, 'Portfolio_log_return']\n",
                "\n",
                "CVaR_95 = -1*(loss_return/(len(dates) * 0.05))\n",
                "print(f\"The CVaR95% of portfolio as of 2016/12/31 is {CVaR_95}\")\n"
            ],
            "outputs": [
                {
                    "output_type": "stream",
                    "name": "stdout",
                    "text": [
                        "The CVaR95% of portfolio as of 2016/12/31 is 0.17560943012814598\n"
                    ]
                }
            ],
            "metadata": {}
        },
        {
            "cell_type": "markdown",
            "source": [
                "## Q4aii. The CVaR95% or Expected Shortfall of portfolio as of 2016/12/31 is 0.17560943012814598 or 17.56% (4 sig fig) log return loss for 95% confidence.\n",
                "---"
            ],
            "metadata": {}
        },
        {
            "cell_type": "markdown",
            "source": [],
            "metadata": {}
        }
    ],
    "metadata": {
        "orig_nbformat": 4,
        "language_info": {
            "name": "python",
            "version": "3.9.6",
            "mimetype": "text/x-python",
            "codemirror_mode": {
                "name": "ipython",
                "version": 3
            },
            "pygments_lexer": "ipython3",
            "nbconvert_exporter": "python",
            "file_extension": ".py"
        },
        "kernelspec": {
            "name": "python3",
            "display_name": "Python 3.9.6 64-bit"
        },
        "interpreter": {
            "hash": "aee8b7b246df8f9039afb4144a1f6fd8d2ca17a180786b69acc140d282b71a49"
        }
    },
    "nbformat": 4,
    "nbformat_minor": 2
}